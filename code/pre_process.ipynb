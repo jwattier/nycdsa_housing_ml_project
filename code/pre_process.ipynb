{
 "cells": [
  {
   "cell_type": "code",
   "execution_count": 1,
   "metadata": {
    "collapsed": true,
    "pycharm": {
     "is_executing": false
    }
   },
   "outputs": [
    {
     "name": "stdout",
     "text": [
      "Populating the interactive namespace from numpy and matplotlib\n"
     ],
     "output_type": "stream"
    }
   ],
   "source": [
    "import janitor as jn\n",
    "import pandas as pd\n",
    "\n",
    "%pylab inline\n"
   ]
  },
  {
   "cell_type": "code",
   "execution_count": 2,
   "outputs": [],
   "source": [
    "file_path = r\"..\\data\\train.csv\"\n",
    "\n",
    "# column list to import from train csv file based upon initial\n",
    "# EDA work \n",
    "import_list = ['Id', 'MSSubClass', 'MSZoning', 'LotFrontage', 'LotArea', 'Alley','LotShape', 'Neighborhood', 'Condition1', \n",
    "              'Condition2', 'BldgType', 'HouseStyle','OverallQual', 'OverallCond', 'YearBuilt', 'YearRemodAdd', \n",
    "              'Exterior1st', 'Exterior2nd', 'MasVnrType', 'MasVnrArea', 'BsmtQual', 'BsmtCond', 'BsmtExposure', \n",
    "              'BsmtFinType1', 'BsmtFinSF1', 'BsmtFinType2','BsmtFinSF2', 'BsmtUnfSF', 'TotalBsmtSF', 'CentralAir', \n",
    "              'Electrical', '1stFlrSF', '2ndFlrSF', 'LowQualFinSF', 'GrLivArea', 'BsmtFullBath', 'BsmtHalfBath', \n",
    "              'FullBath', 'HalfBath', 'BedroomAbvGr', 'KitchenAbvGr', 'KitchenQual', 'TotRmsAbvGrd', 'Fireplaces',\n",
    "              'FireplaceQu', 'WoodDeckSF', 'OpenPorchSF', 'EnclosedPorch', '3SsnPorch','ScreenPorch', 'YrSold', \n",
    "              'SaleType', 'SaleCondition','Electrical',\"HeatingQC\",\"Fireplaces\", \"FireplaceQu\", \"BsmtQual\", \"BsmtFinType1\", \n",
    "              \"BsmtFinType2\", 'LotFrontage', 'LotArea', 'GarageCars', 'OverallCond', 'SalePrice'] "
   ],
   "metadata": {
    "collapsed": false,
    "pycharm": {
     "name": "#%%\n",
     "is_executing": false
    }
   }
  },
  {
   "cell_type": "code",
   "execution_count": 3,
   "outputs": [],
   "source": [
    "# Index will be the ID of the house sale\n",
    "initial_df = pd.read_csv(filepath_or_buffer=file_path, usecols=import_list, index_col=0)\n",
    "\n",
    "# convert column names to lowercase and replace spaces with underscores\n",
    "cleaned_df = jn.clean_names(initial_df)"
   ],
   "metadata": {
    "collapsed": false,
    "pycharm": {
     "name": "#%%\n",
     "is_executing": false
    }
   }
  },
  {
   "cell_type": "code",
   "execution_count": 4,
   "outputs": [],
   "source": [
    "cleaned_df.sample(5)\n",
    "\n",
    " # remove outliers based on Pre_process draft based upon Cook's distance > 3 times \n",
    "# mean absolute average \n",
    "# this step is performed prior to imputation steps  \n",
    "cleaned_df = cleaned_df.drop([1299, 524], axis=\"rows\") "
   ],
   "metadata": {
    "collapsed": false,
    "pycharm": {
     "name": "#%%\n",
     "is_executing": false
    }
   }
  },
  {
   "cell_type": "code",
   "execution_count": 5,
   "outputs": [],
   "source": [
    "# Combined square footage metrics for building sf and outside sf (e.g., porch space)\n",
    "bldg_sqft = cleaned_df[[\"totalbsmtsf\", \"1stflrsf\", \"2ndflrsf\"]].sum(axis = \"columns\")\n",
    "outside_sf = cleaned_df[[\"wooddecksf\", \"openporchsf\", \"3ssnporch\", \"screenporch\", \"enclosedporch\"]].sum(axis=\"columns\")\n",
    "lot_sf = cleaned_df[\"lotarea\"] - cleaned_df['1stflrsf'] - outside_sf"
   ],
   "metadata": {
    "collapsed": false,
    "pycharm": {
     "name": "#%%\n",
     "is_executing": false
    }
   }
  },
  {
   "cell_type": "code",
   "execution_count": 6,
   "outputs": [],
   "source": [
    "# Combining above-basement and basement baths\n",
    "total_baths = cleaned_df[\"fullbath\"]  + cleaned_df[\"halfbath\"]/ 2 + cleaned_df[\"bsmtfullbath\"] \\\n",
    "                   + cleaned_df[\"bsmthalfbath\"] / 2\n"
   ],
   "metadata": {
    "collapsed": false,
    "pycharm": {
     "name": "#%%\n",
     "is_executing": false
    }
   }
  },
  {
   "cell_type": "code",
   "execution_count": 7,
   "outputs": [],
   "source": [
    "# Various Dummifications\n",
    "# 0=1 flat if the building type is a single family home\n",
    "sgl_famly_hm = cleaned_df[\"bldgtype\"].apply(lambda x: 0 if x == '1Fam' else 1)\n",
    "\n",
    "# top 3 neighborhoods based upon median home price sales and general spread of prices based upon boxplot\n",
    "top_3_nbrhd = cleaned_df[\"neighborhood\"].isin([\"NridgHt\", \"NoRidge\", \"StoneBr\"]).map({False: 0, True: 1})\n",
    "\n",
    "# bottom 5 neighborhoods based upon median home and boxplot inspection\n",
    "btm_5_nbrhd = cleaned_df[\"neighborhood\"].isin([\"MeadowV\", \"IDOTRR\", \"BrDale\", \"OldTown\", \"Edwards\"]).map({False: 0, True: 1})\n",
    "\n",
    "# Fireplaces that are Excellent, Good or Typical/TA \n",
    "good_frplc = cleaned_df[\"fireplacequ\"].isin([\"Ex\", \"Gd\", \"TA\"]).map({False: 0, True: 1})\n",
    "\n",
    "# remodel age was general found to be more individually correlated with SalePrice than homeage than total home age\n",
    "# new_home = sold within past 5 years \n",
    "homeage = cleaned_df[\"yrsold\"] - cleaned_df[\"yearbuilt\"]\n",
    "remodelage = cleaned_df[\"yrsold\"] - cleaned_df[\"yearremodadd\"]\n",
    "newHome = homeage < 5\n",
    "newHome = newHome.map({False: 0, True: 1})"
   ],
   "metadata": {
    "collapsed": false,
    "pycharm": {
     "name": "#%%\n",
     "is_executing": false
    }
   }
  },
  {
   "cell_type": "code",
   "execution_count": 8,
   "outputs": [],
   "source": [
    "# Various measures where higher amenity ratings that were associated with higher home prices\n",
    "# these are being combined into a single \"positive amentities count\" feature \n",
    "\n",
    "# 1 Excellent Heating (important for a cold place :-))\n",
    "excl_heating = cleaned_df[\"heatingqc\"].isin([\"Ex\"]).map({False: 0, True:1})\n",
    "\n",
    "# 2 basement has GLQ (Good Living Quarter) in either \n",
    "bsmt_gd_lvg = (cleaned_df[\"bsmtfintype1\"].isin([\"GLQ\"]) | cleaned_df[\"bsmtfintype2\"].isin([\"GLQ\"])).map({False: 0, True:1})\n",
    "bsmt_gd_lvg.sum()\n",
    "\n",
    "# 3 Good, Excellent and \"Typical\"/TA fireplaces\n",
    "good_frplc = cleaned_df[\"fireplacequ\"].isin([\"Ex\", \"Gd\", \"TA\"]).map({False: 0, True: 1})\n",
    "\n",
    "# 4 Good and Excellent Kitchens being combined together \n",
    "ktch_groups = cleaned_df[\"kitchenqual\"].map({\"TA\": \"ktch_okay\", \"Fa\": \"ktch_okay\", \"Gd\": \"ktch_good\", \"Ex\": \"kitch_topnotch\"})\n",
    "ktch_dummies = pd.get_dummies(data=ktch_groups).drop(\"ktch_okay\", axis=\"columns\")\n",
    "\n",
    "# 5 Excellent Basement Quality\n",
    "excl_bsmt = cleaned_df[\"bsmtqual\"].isin([\"Ex\"]).map({False: 0, True:1})\n",
    "excl_bsmt.sum()\n",
    "\n",
    "good_ament_ct = pd.concat([excl_heating, excl_bsmt, ktch_dummies, bsmt_gd_lvg, good_frplc], axis = \"columns\").sum(axis=\"columns\")"
   ],
   "metadata": {
    "collapsed": false,
    "pycharm": {
     "name": "#%%\n",
     "is_executing": false
    }
   }
  },
  {
   "cell_type": "code",
   "execution_count": 9,
   "outputs": [],
   "source": [
    "# Various measures where lower amenity ratings were associated with lower higher prices (versus the average/highly rated) \n",
    "# these are being combined into a single \"negative amentities count\" feature\n",
    "\n",
    "# 1 No fireplace\n",
    "no_fireplace = cleaned_df[\"fireplaces\"] == 0\n",
    "no_fireplace = no_fireplace.map({False: 0, True: 1})\n",
    "\n",
    "# 2 No Central AC\n",
    "no_central_ac = cleaned_df['centralair'].isin(['N']).map({False: 0, True:1}) \n",
    "\n",
    "# Electirical aside from standard circuitbreaker\n",
    "bad_electrical = cleaned_df['electrical'].isin(['Mix', 'FuseP', 'FuseF', 'FuseA']).map({False: 0, True:1})\n",
    "\n",
    "bad_ament_ct = pd.concat([no_central_ac, no_fireplace, bad_electrical], axis=\"columns\").sum(axis=\"columns\")\n"
   ],
   "metadata": {
    "collapsed": false,
    "pycharm": {
     "name": "#%%\n",
     "is_executing": false
    }
   }
  },
  {
   "cell_type": "code",
   "execution_count": 10,
   "outputs": [],
   "source": [
    "# remaining features\n",
    "\n",
    "#1 credit for having garage space for two or more cars\n",
    "two_plus_cr_garg = cleaned_df[\"garagecars\"].apply(lambda x: 1 if x >= 2 else 0)\n",
    "\n",
    "# houses with a 4 or less overall condition showed on average lower sale price then\n",
    "# houses with an overall condition rating of 5 or higher \n",
    "neg_ovrll_cond = cleaned_df[\"overallcond\"].apply(lambda x: 1 if x <= 4 else 0)\n",
    "\n",
    "# House LotFrontage with NAs filled in as zeros\n",
    "cleaned_df[\"lotfrontage\"] = cleaned_df[\"lotfrontage\"].fillna(0)\n",
    "\n",
    "adj_lot_area = cleaned_df[\"lotarea\"] - outside_sf - cleaned_df[\"1stflrsf\"]\n",
    "\n",
    "abnormal_sale = (cleaned_df[\"salecondition\"] == \"Abnorml\").map({False: 0, True: 1}).fillna(0)\n",
    "\n",
    "adj_ovr_qual = cleaned_df[\"overallqual\"].apply(lambda x: 0 if x <=3 else x - 3)"
   ],
   "metadata": {
    "collapsed": false,
    "pycharm": {
     "name": "#%%\n",
     "is_executing": false
    }
   }
  },
  {
   "cell_type": "code",
   "execution_count": 29,
   "outputs": [
    {
     "data": {
      "text/plain": "     bldg_sf  total_baths  good_ament_ct  btm_5_nbrhd  newHome  \\\nId                                                               \n734     2008          2.0              2            0        0   \n833     2770          3.5              4            0        0   \n180     1936          1.0              0            1        0   \n423     1976          1.0              1            0        0   \n577     2338          2.5              1            0        0   \n\n     neg_ovrll_cond  adj_ovr_qual  adj_lot_area  bad_ament_ct  abnormal_sale  \\\nId                                                                             \n734               0             2          8691             0              0   \n833               0             4          8376             0              0   \n180               0             2          7368             1              0   \n423               0             2         20762             2              0   \n577               0             4          5365             0              0   \n\n     outside_sf  two_plus_cr_garg  sgl_famly_hm  top_3_nbrhd  homeage  \\\nId                                                                      \n734         165                 0             0            0       48   \n833         231                 1             0            0        7   \n180         184                 1             0            0       84   \n423           0                 1             0            0       54   \n577          50                 0             0            0       81   \n\n     remodelage  lotfrontage  garagecars  bedroomsabvgr  saleprice  \nId                                                                  \n734          26         80.0           1              3     131400  \n833           7         44.0           2              3     237000  \n180           1         60.0           2              2     100000  \n423          54        100.0           2              2     113000  \n577          59         52.0           1              3     145000  ",
      "text/html": "<div>\n<style scoped>\n    .dataframe tbody tr th:only-of-type {\n        vertical-align: middle;\n    }\n\n    .dataframe tbody tr th {\n        vertical-align: top;\n    }\n\n    .dataframe thead th {\n        text-align: right;\n    }\n</style>\n<table border=\"1\" class=\"dataframe\">\n  <thead>\n    <tr style=\"text-align: right;\">\n      <th></th>\n      <th>bldg_sf</th>\n      <th>total_baths</th>\n      <th>good_ament_ct</th>\n      <th>btm_5_nbrhd</th>\n      <th>newHome</th>\n      <th>neg_ovrll_cond</th>\n      <th>adj_ovr_qual</th>\n      <th>adj_lot_area</th>\n      <th>bad_ament_ct</th>\n      <th>abnormal_sale</th>\n      <th>outside_sf</th>\n      <th>two_plus_cr_garg</th>\n      <th>sgl_famly_hm</th>\n      <th>top_3_nbrhd</th>\n      <th>homeage</th>\n      <th>remodelage</th>\n      <th>lotfrontage</th>\n      <th>garagecars</th>\n      <th>bedroomsabvgr</th>\n      <th>saleprice</th>\n    </tr>\n    <tr>\n      <th>Id</th>\n      <th></th>\n      <th></th>\n      <th></th>\n      <th></th>\n      <th></th>\n      <th></th>\n      <th></th>\n      <th></th>\n      <th></th>\n      <th></th>\n      <th></th>\n      <th></th>\n      <th></th>\n      <th></th>\n      <th></th>\n      <th></th>\n      <th></th>\n      <th></th>\n      <th></th>\n      <th></th>\n    </tr>\n  </thead>\n  <tbody>\n    <tr>\n      <th>734</th>\n      <td>2008</td>\n      <td>2.0</td>\n      <td>2</td>\n      <td>0</td>\n      <td>0</td>\n      <td>0</td>\n      <td>2</td>\n      <td>8691</td>\n      <td>0</td>\n      <td>0</td>\n      <td>165</td>\n      <td>0</td>\n      <td>0</td>\n      <td>0</td>\n      <td>48</td>\n      <td>26</td>\n      <td>80.0</td>\n      <td>1</td>\n      <td>3</td>\n      <td>131400</td>\n    </tr>\n    <tr>\n      <th>833</th>\n      <td>2770</td>\n      <td>3.5</td>\n      <td>4</td>\n      <td>0</td>\n      <td>0</td>\n      <td>0</td>\n      <td>4</td>\n      <td>8376</td>\n      <td>0</td>\n      <td>0</td>\n      <td>231</td>\n      <td>1</td>\n      <td>0</td>\n      <td>0</td>\n      <td>7</td>\n      <td>7</td>\n      <td>44.0</td>\n      <td>2</td>\n      <td>3</td>\n      <td>237000</td>\n    </tr>\n    <tr>\n      <th>180</th>\n      <td>1936</td>\n      <td>1.0</td>\n      <td>0</td>\n      <td>1</td>\n      <td>0</td>\n      <td>0</td>\n      <td>2</td>\n      <td>7368</td>\n      <td>1</td>\n      <td>0</td>\n      <td>184</td>\n      <td>1</td>\n      <td>0</td>\n      <td>0</td>\n      <td>84</td>\n      <td>1</td>\n      <td>60.0</td>\n      <td>2</td>\n      <td>2</td>\n      <td>100000</td>\n    </tr>\n    <tr>\n      <th>423</th>\n      <td>1976</td>\n      <td>1.0</td>\n      <td>1</td>\n      <td>0</td>\n      <td>0</td>\n      <td>0</td>\n      <td>2</td>\n      <td>20762</td>\n      <td>2</td>\n      <td>0</td>\n      <td>0</td>\n      <td>1</td>\n      <td>0</td>\n      <td>0</td>\n      <td>54</td>\n      <td>54</td>\n      <td>100.0</td>\n      <td>2</td>\n      <td>2</td>\n      <td>113000</td>\n    </tr>\n    <tr>\n      <th>577</th>\n      <td>2338</td>\n      <td>2.5</td>\n      <td>1</td>\n      <td>0</td>\n      <td>0</td>\n      <td>0</td>\n      <td>4</td>\n      <td>5365</td>\n      <td>0</td>\n      <td>0</td>\n      <td>50</td>\n      <td>0</td>\n      <td>0</td>\n      <td>0</td>\n      <td>81</td>\n      <td>59</td>\n      <td>52.0</td>\n      <td>1</td>\n      <td>3</td>\n      <td>145000</td>\n    </tr>\n  </tbody>\n</table>\n</div>"
     },
     "metadata": {},
     "output_type": "execute_result",
     "execution_count": 29
    }
   ],
   "source": [
    "# specifying the target and explanatory variables \n",
    "list_of_features = [\n",
    "    bldg_sqft, total_baths, good_ament_ct, btm_5_nbrhd, newHome, neg_ovrll_cond, adj_ovr_qual, adj_lot_area,\n",
    "    bad_ament_ct, abnormal_sale, outside_sf, two_plus_cr_garg, sgl_famly_hm, top_3_nbrhd, homeage, remodelage,\n",
    "    cleaned_df[[\"lotfrontage\", \"garagecars\", \"bedroomabvgr\", \"saleprice\"]]\n",
    "]\n",
    "\n",
    "features_pls_trgt = pd.concat(list_of_features, axis=\"columns\")\n",
    "\n",
    "# specifying column name for items inputted as Series\n",
    "features_pls_trgt.columns = [\n",
    "    \"bldg_sf\", \"total_baths\", \"good_ament_ct\", \"btm_5_nbrhd\", \"newHome\",\"neg_ovrll_cond\", \"adj_ovr_qual\", \n",
    "    \"adj_lot_area\", \"bad_ament_ct\", \"abnormal_sale\", \"outside_sf\", \"two_plus_cr_garg\",\"sgl_famly_hm\", \"top_3_nbrhd\",\n",
    "    \"homeage\", \"remodelage\", \"lotfrontage\", \"garagecars\", \"bedroomsabvgr\", \"saleprice\",\n",
    "]\n",
    "\n",
    "features_pls_trgt.sample(5)"
   ],
   "metadata": {
    "collapsed": false,
    "pycharm": {
     "name": "#%% \n",
     "is_executing": false
    }
   }
  },
  {
   "cell_type": "code",
   "execution_count": 30,
   "outputs": [],
   "source": [
    "# creating field that is the log of sale price\n",
    "features_pls_trgt[\"log_saleprice\"] = np.log(features_pls_trgt[\"saleprice\"])\n",
    "\n",
    "file_path_pre_process = r\"..\\pre_processed_data\\pre_processed.csv\"\n",
    "\n",
    "# output X and y to pre_processed CSV file (non-standardized)\n",
    "features_pls_trgt.to_csv(file_path_pre_process)"
   ],
   "metadata": {
    "collapsed": false,
    "pycharm": {
     "name": "#%%\n",
     "is_executing": false
    }
   }
  },
  {
   "cell_type": "code",
   "execution_count": 31,
   "outputs": [
    {
     "name": "stdout",
     "text": [
      "(1458, 21)\n"
     ],
     "output_type": "stream"
    },
    {
     "data": {
      "text/plain": "Index(['bldg_sf', 'total_baths', 'good_ament_ct', 'btm_5_nbrhd', 'newHome',\n       'neg_ovrll_cond', 'adj_ovr_qual', 'adj_lot_area', 'bad_ament_ct',\n       'abnormal_sale', 'outside_sf', 'two_plus_cr_garg', 'sgl_famly_hm',\n       'top_3_nbrhd', 'homeage', 'remodelage', 'lotfrontage', 'garagecars',\n       'bedroomsabvgr', 'saleprice', 'log_saleprice'],\n      dtype='object')"
     },
     "metadata": {},
     "output_type": "execute_result",
     "execution_count": 31
    }
   ],
   "source": [
    "print(features_pls_trgt.shape)\n",
    "\n",
    "features_pls_trgt.columns"
   ],
   "metadata": {
    "collapsed": false,
    "pycharm": {
     "name": "#%%\n",
     "is_executing": false
    }
   }
  },
  {
   "cell_type": "code",
   "execution_count": null,
   "outputs": [],
   "source": [
    "\n"
   ],
   "metadata": {
    "collapsed": false,
    "pycharm": {
     "name": "#%%\n"
    }
   }
  }
 ],
 "metadata": {
  "kernelspec": {
   "name": "python37664bitbaseconda78814975a87e45dd93a41087a924c115",
   "language": "python",
   "display_name": "Python 3.7.6 64-bit ('base': conda)"
  },
  "language_info": {
   "codemirror_mode": {
    "name": "ipython",
    "version": 2
   },
   "file_extension": ".py",
   "mimetype": "text/x-python",
   "name": "python",
   "nbconvert_exporter": "python",
   "pygments_lexer": "ipython2",
   "version": "2.7.6"
  },
  "pycharm": {
   "stem_cell": {
    "cell_type": "raw",
    "source": [],
    "metadata": {
     "collapsed": false
    }
   }
  }
 },
 "nbformat": 4,
 "nbformat_minor": 0
}